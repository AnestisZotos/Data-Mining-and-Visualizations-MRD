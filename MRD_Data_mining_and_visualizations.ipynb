{
  "nbformat": 4,
  "nbformat_minor": 0,
  "metadata": {
    "colab": {
      "provenance": [],
      "authorship_tag": "ABX9TyPOIY90qCWXLB/cRvmlHFyi",
      "include_colab_link": true
    },
    "kernelspec": {
      "name": "python3",
      "display_name": "Python 3"
    },
    "language_info": {
      "name": "python"
    }
  },
  "cells": [
    {
      "cell_type": "markdown",
      "metadata": {
        "id": "view-in-github",
        "colab_type": "text"
      },
      "source": [
        "<a href=\"https://colab.research.google.com/github/Bilpapster/Data-Mining-and-Visualizations-MRD/blob/main/MRD_Data_mining_and_visualizations.ipynb\" target=\"_parent\"><img src=\"https://colab.research.google.com/assets/colab-badge.svg\" alt=\"Open In Colab\"/></a>"
      ]
    },
    {
      "cell_type": "code",
      "execution_count": 1,
      "metadata": {
        "colab": {
          "base_uri": "https://localhost:8080/"
        },
        "id": "wqJoAD0Z2Vaf",
        "outputId": "48bf5bf9-4c86-42a5-8c09-5216e4774c1d"
      },
      "outputs": [
        {
          "output_type": "stream",
          "name": "stdout",
          "text": [
            "Hello MRD!\n"
          ]
        }
      ],
      "source": [
        "import numpy as np\n",
        "import pandas as pd\n",
        "import matplotlib.pyplot as plt\n",
        "import os\n",
        "\n",
        "print('Hello MRD!')"
      ]
    },
    {
      "cell_type": "code",
      "source": [
        "dummy_data = [\n",
        "    [1, 2, 3, 4],\n",
        "    [4, 6, 1, 3],\n",
        "    [3, 8, 2, 1]\n",
        "]\n",
        "\n",
        "plt.scatter(dummy_data[:][0], dummy_data[:][1])"
      ],
      "metadata": {
        "id": "x4LtRchd2V82",
        "outputId": "e242dabd-9f00-448f-9d0a-bf8facf37ed7",
        "colab": {
          "base_uri": "https://localhost:8080/",
          "height": 447
        }
      },
      "execution_count": 4,
      "outputs": [
        {
          "output_type": "execute_result",
          "data": {
            "text/plain": [
              "<matplotlib.collections.PathCollection at 0x7caf9b7b95d0>"
            ]
          },
          "metadata": {},
          "execution_count": 4
        },
        {
          "output_type": "display_data",
          "data": {
            "text/plain": [
              "<Figure size 640x480 with 1 Axes>"
            ],
            "image/png": "[encoded data removed]"
          },
          "metadata": {}
        }
      ]
    }
  ]
}